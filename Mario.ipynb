{
 "cells": [
  {
   "cell_type": "code",
   "execution_count": null,
   "id": "3719cbdf-e199-462c-8905-0dee025694ef",
   "metadata": {
    "editable": true,
    "scrolled": true,
    "slideshow": {
     "slide_type": ""
    },
    "tags": []
   },
   "outputs": [],
   "source": [
    "!pip install gym_super_mario_bros==7.3.0 nes_py"
   ]
  },
  {
   "cell_type": "code",
   "execution_count": null,
   "id": "d3c1718e-d857-42f3-ab7d-48747d9d4200",
   "metadata": {},
   "outputs": [],
   "source": [
    "#Importing the game\n",
    "import gym_super_mario_bros\n",
    "#Importing the Joypad wrapper\n",
    "from nes_py.wrappers import JoypadSpace\n",
    "#Importing the SIMPLIFIED controls\n",
    "from gym_super_mario_bros.actions import SIMPLE_MOVEMENT"
   ]
  },
  {
   "cell_type": "code",
   "execution_count": null,
   "id": "ce8067bb-2fe1-4116-81e8-a3ef9d7dcd4c",
   "metadata": {},
   "outputs": [],
   "source": [
    "# Setting up the game\n",
    "env = gym_super_mario_bros.make('SuperMarioBros-v0',apply_api_compatibility=True,render_mode=\"human\" )\n",
    "#Joy pad space allows the number of options AI has down to less than 10 which makes it easier for the AI \n",
    "env = JoypadSpace(env, SIMPLE_MOVEMENT)"
   ]
  },
  {
   "cell_type": "code",
   "execution_count": null,
   "id": "78084506-4ba2-4b56-84f8-96e2aae72c44",
   "metadata": {},
   "outputs": [],
   "source": [
    "#Create a flag - restart or not\n",
    "done = True\n",
    "#step represents each from. Loop through each frame in the game\n",
    "for step in range(100000):\n",
    "    #Start the game to begin with\n",
    "    if done:\n",
    "        #resets game(Starts the game)\n",
    "        env.reset()\n",
    "    #Do random actions\n",
    "    state, reward, done, info = env.step(env.action_space.sample())\n",
    "    #Show the game on the screen\n",
    "    env.render()\n",
    "#Close the game\n",
    "env.close()"
   ]
  },
  {
   "cell_type": "code",
   "execution_count": null,
   "id": "f8015f80-d24b-4f31-a6b0-32379d9fc6a8",
   "metadata": {},
   "outputs": [],
   "source": [
    "#Install pytorch\n",
    "!pip install torch torchvision torchaudio --index-url https://download.pytorch.org/whl/cu121"
   ]
  },
  {
   "cell_type": "code",
   "execution_count": null,
   "id": "cff9e727-2456-4703-aa34-12aea7aa0e28",
   "metadata": {
    "scrolled": true
   },
   "outputs": [],
   "source": [
    "#INstall stable baselines for RL stuff\n",
    "!pip install stable-baselines3[extra]"
   ]
  },
  {
   "cell_type": "code",
   "execution_count": null,
   "id": "64c0e7e4-659a-449d-9f75-1795be442127",
   "metadata": {},
   "outputs": [],
   "source": [
    "#Import Frame Stacker Wrapper and GrayScaling Wrapper\n",
    "from gym.wrappers import GrayScaleObservation\n",
    "#Import Vectorization Wrappers\n",
    "from stable_baselines3.common.vec_env import VecFrameStack, DummyVecEnv\n",
    "#Import Matplotlib to show the impact of frame stacking\n",
    "from matplotlib import pyplot as plt"
   ]
  },
  {
   "cell_type": "code",
   "execution_count": null,
   "id": "75fefa42-720c-4ea0-8593-d69506d3ee55",
   "metadata": {
    "scrolled": true
   },
   "outputs": [],
   "source": [
    "# 1. Create the base enviornment\n",
    "JoypadSpace.reset = lambda self, **kwargs: self.env.reset(**kwargs)\n",
    "env = gym_super_mario_bros.make('SuperMarioBros-v0',apply_api_compatibility=True,render_mode=\"human\" )\n",
    "# 2. Simplify the controls\n",
    "env = JoypadSpace(env, SIMPLE_MOVEMENT)\n",
    "# 3. Grayschale\n",
    "env = GrayScaleObservation(env, keep_dim=True)\n",
    "# 4. Wrap inside the Dummy environment\n",
    "env = DummyVecEnv([lambda: env])\n",
    "# 5. Stack the frames\n",
    "env = VecFrameStack(env, 4, channels_order='last')"
   ]
  },
  {
   "cell_type": "code",
   "execution_count": null,
   "id": "36561bac-316b-4192-8634-22f07dc1d175",
   "metadata": {},
   "outputs": [],
   "source": [
    "#train the RL model\n",
    "#Import os for file path management\n",
    "import os\n",
    "#Import PPO for algos\n",
    "from stable_baselines3 import PPO\n",
    "#Import Base Callback for saving models\n",
    "from stable_baselines3.common.callbacks import BaseCallback"
   ]
  },
  {
   "cell_type": "code",
   "execution_count": null,
   "id": "28541eea-ab12-4ee7-acc5-c62b4f649362",
   "metadata": {},
   "outputs": [],
   "source": [
    "class TrainAndLoggingCallback(BaseCallback):\n",
    "\n",
    "    def __init__(self, check_freq, save_path, verbose=1):\n",
    "        super(TrainAndLoggingCallback, self).__init__(verbose)\n",
    "        self.check_freq = check_freq\n",
    "        self.save_path = save_path\n",
    "\n",
    "    def _init_callback(self):\n",
    "        if self.save_path is not None:\n",
    "            os.makedirs(self.save_path, exist_ok=True)\n",
    "\n",
    "    def _on_step(self):\n",
    "        if self.n_calls % self.check_freq == 0:\n",
    "            model_path = os.path.join(self.save_path, 'best_model_{}'.format(self.n_calls))\n",
    "            self.model.save(model_path)\n",
    "\n",
    "        return True\n",
    "                "
   ]
  },
  {
   "cell_type": "code",
   "execution_count": null,
   "id": "cc6c952a-4909-4d3f-871c-46a78582e278",
   "metadata": {},
   "outputs": [],
   "source": [
    "CHECKPOINT_DIR = './train/'\n",
    "LOG_DIR = './logs/'"
   ]
  },
  {
   "cell_type": "code",
   "execution_count": null,
   "id": "9eb19b61-4378-4230-93d1-754c6ae48af5",
   "metadata": {},
   "outputs": [],
   "source": [
    "#Setup model saving callback\n",
    "callback = TrainAndLoggingCallback(check_freq=10000, save_path = CHECKPOINT_DIR)"
   ]
  },
  {
   "cell_type": "code",
   "execution_count": null,
   "id": "eb2160e4-d5bc-4202-b2cc-14a8ec38984b",
   "metadata": {},
   "outputs": [],
   "source": [
    "#Starting the AI model\n",
    "model = PPO('CnnPolicy', env, verbose =1, tensorboard_log=LOG_DIR, learning_rate=0.000001, n_steps=512)"
   ]
  },
  {
   "cell_type": "code",
   "execution_count": null,
   "id": "817f8159-c424-4090-9249-ee8f298cc369",
   "metadata": {
    "scrolled": true
   },
   "outputs": [],
   "source": [
    "#Train model\n",
    "model.learn(total_timesteps = 1000000, callback=callback)"
   ]
  },
  {
   "cell_type": "code",
   "execution_count": null,
   "id": "b2d268b3-d6ee-4d54-9645-4a3b5828dd26",
   "metadata": {},
   "outputs": [],
   "source": [
    "#Test model\n",
    "model = PPO.load('./train/best_model_1000000')"
   ]
  },
  {
   "cell_type": "code",
   "execution_count": null,
   "id": "0563cff5-96e8-49f6-a46e-c84021bdaacd",
   "metadata": {},
   "outputs": [],
   "source": [
    "state = env.reset()\n",
    "while True:\n",
    "    action, _ = model.predict(state)\n",
    "    state, rewards, done, info = env.step(action)\n",
    "    env.render()\n",
    "env.close()"
   ]
  },
  {
   "cell_type": "code",
   "execution_count": null,
   "id": "3a91af89-6de3-4b41-886f-4f54514031ec",
   "metadata": {},
   "outputs": [],
   "source": []
  }
 ],
 "metadata": {
  "kernelspec": {
   "display_name": "Python 3 (ipykernel)",
   "language": "python",
   "name": "python3"
  },
  "language_info": {
   "codemirror_mode": {
    "name": "ipython",
    "version": 3
   },
   "file_extension": ".py",
   "mimetype": "text/x-python",
   "name": "python",
   "nbconvert_exporter": "python",
   "pygments_lexer": "ipython3",
   "version": "3.12.4"
  }
 },
 "nbformat": 4,
 "nbformat_minor": 5
}
